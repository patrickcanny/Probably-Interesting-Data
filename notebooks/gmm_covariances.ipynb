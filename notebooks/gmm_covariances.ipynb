{
 "cells": [
  {
   "cell_type": "code",
   "execution_count": 1,
   "metadata": {},
   "outputs": [],
   "source": [
    "# Modified example GMM method from scikit-learn.org\n",
    "\n",
    "import pandas as pd\n",
    "import numpy as np\n",
    "from sklearn.mixture import GaussianMixture\n",
    "\n",
    "data = pd.read_csv(\"../data/mushrooms.csv\")\n",
    "\n",
    "from sklearn import preprocessing\n",
    "le = preprocessing.LabelEncoder()\n",
    "data = data.apply(le.fit_transform)\n",
    "\n",
    "cols = list(data.columns)\n",
    "cols.remove(\"class\")\n",
    "X = data[cols]\n",
    "y = data[\"class\"]\n",
    "\n",
    "from sklearn.model_selection import train_test_split\n",
    "\n",
    "# Break up the dataset into non-overlapping training (75%) and testing (25%) sets.\n",
    "X_train, X_test, y_train, y_test = train_test_split(X, y, test_size=0.25, random_state=42)\n",
    "\n",
    "n_classes = len(np.unique(y_train))"
   ]
  },
  {
   "cell_type": "code",
   "execution_count": 2,
   "metadata": {},
   "outputs": [],
   "source": [
    "estimators = dict((cov_type, GaussianMixture(n_components=n_classes,\n",
    "                   covariance_type=cov_type, max_iter=20, random_state=0))\n",
    "                  for cov_type in ['spherical', 'diag', 'tied', 'full'])"
   ]
  },
  {
   "cell_type": "code",
   "execution_count": 3,
   "metadata": {},
   "outputs": [
    {
     "name": "stdout",
     "output_type": "stream",
     "text": [
      "accuracy for spherical: 0.7193500738552437\n",
      "accuracy for diag: 0.723781388478582\n",
      "accuracy for tied: 0.7193500738552437\n",
      "accuracy for full: 0.7055637616937469\n"
     ]
    }
   ],
   "source": [
    "# model = GaussianMixture(n_components=n_classes, covariance_type='spherical', max_iter=20, random_state=0)\n",
    "# model.fit(X_train)\n",
    "from sklearn.metrics import accuracy_score\n",
    "\n",
    "for estimator in estimators: \n",
    "    estimators[estimator].fit(X_train)\n",
    "    a = estimators[estimator].predict(X_test)\n",
    "    print(\"accuracy for {}: {}\".format(estimator, accuracy_score(a, y_test)))"
   ]
  }
 ],
 "metadata": {
  "kernelspec": {
   "display_name": "Python 3",
   "language": "python",
   "name": "python3"
  },
  "language_info": {
   "codemirror_mode": {
    "name": "ipython",
    "version": 3
   },
   "file_extension": ".py",
   "mimetype": "text/x-python",
   "name": "python",
   "nbconvert_exporter": "python",
   "pygments_lexer": "ipython3",
   "version": "3.7.2"
  }
 },
 "nbformat": 4,
 "nbformat_minor": 1
}
